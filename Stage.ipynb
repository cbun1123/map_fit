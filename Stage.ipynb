{
  "nbformat": 4,
  "nbformat_minor": 0,
  "metadata": {
    "colab": {
      "name": "Stage.ipynb",
      "provenance": [],
      "collapsed_sections": [],
      "mount_file_id": "https://github.com/cbun1123/map_fit/blob/main/Stage.ipynb",
      "authorship_tag": "ABX9TyMqaAiViCzjBub842hquAlh",
      "include_colab_link": true
    },
    "kernelspec": {
      "name": "python3",
      "display_name": "Python 3"
    },
    "language_info": {
      "name": "python"
    },
    "accelerator": "GPU",
    "gpuClass": "standard"
  },
  "cells": [
    {
      "cell_type": "markdown",
      "metadata": {
        "id": "view-in-github",
        "colab_type": "text"
      },
      "source": [
        "<a href=\"https://colab.research.google.com/github/cbun1123/map_fit/blob/main/Stage.ipynb\" target=\"_parent\"><img src=\"https://colab.research.google.com/assets/colab-badge.svg\" alt=\"Open In Colab\"/></a>"
      ]
    },
    {
      "cell_type": "code",
      "source": [
        "%%capture\n",
        "!git clone https://github.com/cbun1123/map_fit\n",
        "\n",
        "!unzip /content/map_fit/nrevol/X_train_1.zip -d /content/map_fit/X_train\n",
        "!unzip /content/map_fit/nrevol/X_train_2.zip -d /content/map_fit/X_train\n",
        "!unzip /content/map_fit/nrevol/X_train_3.zip -d /content/map_fit/X_train\n",
        "!unzip /content/map_fit/nrevol/X_train_4.zip -d /content/map_fit/X_train\n",
        "!unzip /content/map_fit/nrevol/X_train_5.zip -d /content/map_fit/X_train\n",
        "!unzip /content/map_fit/nrevol/X_train_6.zip -d /content/map_fit/X_train\n",
        "!unzip /content/map_fit/nrevol/X_train_7.zip -d /content/map_fit/X_train\n",
        "\n",
        "!unzip /content/map_fit/nrevol/X_test_1.zip -d /content/map_fit/X_test\n",
        "\n",
        "!rm /content/map_fit/*.zip"
      ],
      "metadata": {
        "id": "0mtWihytt32k"
      },
      "execution_count": null,
      "outputs": []
    },
    {
      "cell_type": "code",
      "source": [
        "%%capture\n",
        "!pip install pytorch-lightning\n",
        "!pip install tensorboardcolab\n",
        "!pip install torchmetrics\n",
        "#!pip install cloud-tpu-client==0.10 https://storage.googleapis.com/tpu-pytorch/wheels/torch_xla-1.9-cp37-cp37m-linux_x86_64.whl\n",
        "%env PYTHONPATH=.:$PYTHONPATH"
      ],
      "metadata": {
        "id": "PyjF4ET6Ryta"
      },
      "execution_count": null,
      "outputs": []
    },
    {
      "cell_type": "code",
      "execution_count": null,
      "metadata": {
        "id": "ow-HQUN3k9SA",
        "colab": {
          "base_uri": "https://localhost:8080/"
        },
        "outputId": "57ca945c-e73f-4043-e3da-924ef1f94bdf"
      },
      "outputs": [
        {
          "output_type": "stream",
          "name": "stdout",
          "text": [
            "Fri Jul 22 11:01:50 2022       \n",
            "+-----------------------------------------------------------------------------+\n",
            "| NVIDIA-SMI 460.32.03    Driver Version: 460.32.03    CUDA Version: 11.2     |\n",
            "|-------------------------------+----------------------+----------------------+\n",
            "| GPU  Name        Persistence-M| Bus-Id        Disp.A | Volatile Uncorr. ECC |\n",
            "| Fan  Temp  Perf  Pwr:Usage/Cap|         Memory-Usage | GPU-Util  Compute M. |\n",
            "|                               |                      |               MIG M. |\n",
            "|===============================+======================+======================|\n",
            "|   0  Tesla T4            Off  | 00000000:00:04.0 Off |                    0 |\n",
            "| N/A   39C    P8     9W /  70W |      0MiB / 15109MiB |      0%      Default |\n",
            "|                               |                      |                  N/A |\n",
            "+-------------------------------+----------------------+----------------------+\n",
            "                                                                               \n",
            "+-----------------------------------------------------------------------------+\n",
            "| Processes:                                                                  |\n",
            "|  GPU   GI   CI        PID   Type   Process name                  GPU Memory |\n",
            "|        ID   ID                                                   Usage      |\n",
            "|=============================================================================|\n",
            "|  No running processes found                                                 |\n",
            "+-----------------------------------------------------------------------------+\n"
          ]
        }
      ],
      "source": [
        "!nvidia-smi"
      ]
    },
    {
      "cell_type": "code",
      "source": [
        "import numpy as np\n",
        "import cv2\n",
        "import glob\n",
        "import math\n",
        "import time\n",
        "import os\n",
        "import gc\n",
        "\n",
        "from google.colab import files\n",
        "from google.colab.patches import cv2_imshow\n",
        "from google.colab import drive\n",
        "\n",
        "import torch\n",
        "import torch.nn as nn\n",
        "import torch.nn.functional as F\n",
        "import torch.onnx\n",
        "from torch.utils.data import Dataset,DataLoader\n",
        "from torch.utils.tensorboard import SummaryWriter\n",
        "\n",
        "import pytorch_lightning as pl\n",
        "\n",
        "import torchmetrics\n",
        "from torchmetrics.functional import *\n",
        "\n",
        "#import torch_xla.core.xla_model as xm\n",
        "\n",
        "import torchvision\n",
        "from torchvision import transforms"
      ],
      "metadata": {
        "id": "Gj6-PAXEtQDT"
      },
      "execution_count": null,
      "outputs": []
    },
    {
      "cell_type": "code",
      "source": [
        "#drive.mount('/content/drive')\n",
        "%load_ext tensorboard\n",
        "%tensorboard --logdir='/content/lightning_logs'\n",
        "#writer = SummaryWriter('/content/runs/map_fit')"
      ],
      "metadata": {
        "id": "863-WKKY3pU6"
      },
      "execution_count": null,
      "outputs": []
    },
    {
      "cell_type": "code",
      "source": [
        "SIZE = 224\n",
        "\n",
        "lin = np.linspace(-1,1,SIZE)\n",
        "[Xm,Ym] = np.meshgrid(lin,lin)\n",
        "idx = ((Xm**2+Ym**2)<1)\n",
        "idx = np.stack([idx,idx,idx], axis=0)\n",
        "idx_t = torch.from_numpy(idx)\n",
        "\n",
        "\n",
        "class imageDataset(Dataset):\n",
        "    def __init__(self,X,y):\n",
        "        'Initialization'\n",
        "        self.X = X.astype(np.float32)\n",
        "        self.y = y.astype(np.float32)\n",
        "        self.n_samples = self.X.shape[0]\n",
        "        self.transform = transforms.Compose([\n",
        "            transforms.ToTensor(),\n",
        "            transforms.Normalize(mean=[0.485, 0.456, 0.406], std=[0.229, 0.224, 0.225]),\n",
        "        ])\n",
        "\n",
        "    def __getitem__(self, index):\n",
        "        'Generates one sample of data'\n",
        "        # Select sample\n",
        "        X = self.X[index]\n",
        "        X = self.transform(X)\n",
        "        X = torch.mul(X,idx_t)\n",
        "\n",
        "        y = self.y[index]\n",
        "        y = torch.from_numpy(y)\n",
        "        sample = X,y\n",
        "        return sample\n",
        "\n",
        "    def __len__(self):\n",
        "        return self.n_samples"
      ],
      "metadata": {
        "id": "YeaSHISWLPdA"
      },
      "execution_count": null,
      "outputs": []
    },
    {
      "cell_type": "code",
      "source": [
        "## Training dataset\n",
        "\n",
        "filenames = glob.glob(\"/content/map_fit/X_train/*.jpg\")\n",
        "filenames.sort()\n",
        "images = [cv2.imread(img) for img in filenames]\n",
        "\n",
        "X_train = np.stack(images, axis=0)\n",
        "y_train = np.load('/content/map_fit/nrevol/Y_train.npy')\n",
        "print(f'Training set : {np.shape(X_train)}')\n",
        "\n",
        "trainset = imageDataset(X_train,y_train)\n",
        "\n",
        "\n",
        "## Testing dataset\n",
        "\n",
        "filenames = glob.glob(\"/content/map_fit/X_test/*.jpg\")\n",
        "filenames.sort()\n",
        "images = [cv2.imread(img) for img in filenames]\n",
        "\n",
        "X_test = np.stack(images, axis=0)\n",
        "y_test = np.load('/content/map_fit/nrevol/Y_test.npy')\n",
        "print(f'Testing set : {np.shape(X_test)}')\n",
        "\n",
        "testset = imageDataset(X_test,y_test)"
      ],
      "metadata": {
        "id": "0CMP3MWXNj-h",
        "colab": {
          "base_uri": "https://localhost:8080/"
        },
        "outputId": "6517d0bc-65ef-4127-ce5c-de1ecbf0a13c"
      },
      "execution_count": null,
      "outputs": [
        {
          "output_type": "stream",
          "name": "stdout",
          "text": [
            "Training set : (10000, 224, 224, 3)\n",
            "Testing set : (1000, 224, 224, 3)\n"
          ]
        }
      ]
    },
    {
      "cell_type": "code",
      "source": [
        "del Xm\n",
        "del Ym\n",
        "del lin\n",
        "del idx\n",
        "\n",
        "del X_train\n",
        "del y_train\n",
        "del X_test\n",
        "del y_test\n",
        "del filenames\n",
        "del images\n",
        "\n",
        "gc.collect()"
      ],
      "metadata": {
        "id": "LOH157NnJmig"
      },
      "execution_count": null,
      "outputs": []
    },
    {
      "cell_type": "markdown",
      "source": [
        "Freezing weights:\n",
        "```\n",
        "for param in backbone.parameters():\n",
        "    param.requires_grad = False\n",
        "self.net = backbone\n",
        "```\n",
        "\n",
        "Replacing last layer:\n",
        "```\n",
        "backbone.fc = nn.Linear(in_features=backbone.fc.in_features, out_features=2, bias=True)\n",
        "self.net = backbone\n",
        "```\n",
        "\n",
        "Adding new last layer:\n",
        "```\n",
        "added_layer = nn.Linear(in_features=backbone.fc.out_features, out_features=2, bias=True)\n",
        "self.net = nn.Sequential(backbone,nn.ReLU(inplace=True),added_layer)\n",
        "```"
      ],
      "metadata": {
        "id": "zasYanDzx5Xy"
      }
    },
    {
      "cell_type": "markdown",
      "source": [
        "Dropout testing\n",
        "~~~\n",
        "def append_dropout(model, rate):\n",
        "    for name, module in model.named_children():\n",
        "        if len(list(module.children())) > 0:\n",
        "            append_dropout(module,rate)\n",
        "        if isinstance(module, nn.ReLU):\n",
        "            module.register_forward_hook(lambda m, inp, out: F.dropout(out, p=rate, training=m.training))\n",
        "            setattr(model, name, new)\n",
        "~~~"
      ],
      "metadata": {
        "id": "xSF1B_WhGHHi"
      }
    },
    {
      "cell_type": "code",
      "source": [
        "# model\n",
        "model_name = \"resnet18\"\n",
        "\n",
        "# hyperparameters\n",
        "BATCH_SIZE = 64\n",
        "num_epochs = 4\n",
        "val_check_interval = 0.25\n",
        "learning_rate = 0.015\n",
        "betas = [0.9,0.999] # Gradient decay factor, Squared\n",
        "eps = 1e-8\n",
        "weight_decay = 0.001 # L2 Regularization\n",
        "step_size = 5 # Learn rate drop period\n",
        "gamma = 0.1 # Learn rate drop factor\n",
        "rate = 0.0 # Dropout rate, 0 for none\n",
        "\n",
        "# Defining model\n",
        "class LitModel(pl.LightningModule):\n",
        "    def __init__(self):\n",
        "        super().__init__()\n",
        "\n",
        "        # init a pretrained resnet\n",
        "        backbone = torch.hub.load('pytorch/vision:v0.10.0', model_name, pretrained=True)\n",
        "        backbone.fc = nn.Linear(in_features=backbone.fc.in_features, out_features=2, bias=True)\n",
        "        self.net = backbone\n",
        "\n",
        "        self.batch_size = BATCH_SIZE\n",
        "        self.lr = learning_rate\n",
        "\n",
        "    def train_dataloader(self):\n",
        "        return DataLoader(dataset=trainset, batch_size=self.batch_size)\n",
        "\n",
        "    def val_dataloader(self):\n",
        "        return DataLoader(dataset=testset, batch_size=self.batch_size)\n",
        "\n",
        "    def test_dataloader(self):\n",
        "        return DataLoader(dataset=testset, batch_size=self.batch_size)\n",
        "\n",
        "    def forward(self,x):\n",
        "        return self.net(x)\n",
        "\n",
        "    def training_step(self, batch, batch_idx):\n",
        "        input, labels = batch\n",
        "        output = self.net(input)\n",
        "        loss = F.l1_loss(output,labels) # mean_squared_log_error(output,labels) # F.mse_loss(output,labels)\n",
        "\n",
        "        # Logging to TensorBoard by default\n",
        "        self.log(\"train_loss\", loss)\n",
        "        return loss\n",
        "\n",
        "    def validation_step(self, batch, batch_idx):\n",
        "        input, labels = batch\n",
        "        output = self.net(input)\n",
        "        loss = F.l1_loss(output,labels)\n",
        "\n",
        "        # Logging to TensorBoard by default\n",
        "        self.log(\"val_loss\", loss, prog_bar=True)\n",
        "        return loss\n",
        "\n",
        "    def test_step(self, batch, batch_idx):\n",
        "        input, labels = batch\n",
        "        output = self.net(input)\n",
        "        loss = torch.abs(torch.div(output-labels,output)).mean()\n",
        "        self.log(\"test_loss\", loss)\n",
        "        return loss\n",
        "\n",
        "    def configure_optimizers(self):\n",
        "        optimizer = torch.optim.AdamW(self.parameters(), lr=self.lr, betas=betas, eps=eps, weight_decay=weight_decay)\n",
        "        lr_scheduler = torch.optim.lr_scheduler.StepLR(optimizer,step_size=step_size,gamma=gamma)\n",
        "        return [optimizer], [lr_scheduler]"
      ],
      "metadata": {
        "id": "Vl6yhwY9coxM"
      },
      "execution_count": null,
      "outputs": []
    },
    {
      "cell_type": "code",
      "source": [
        "torch.cuda.empty_cache()\n",
        "gc.collect()\n",
        "\n",
        "# model init\n",
        "model = LitModel() #.load_from_checkpoint(\"/content/checkpoints/last.ckpt\")\n",
        "\n",
        "# logger\n",
        "logger = pl.loggers.TensorBoardLogger(save_dir=os.getcwd(), version=1, name=\"lightning_logs\")\n",
        "\n",
        "# callbacks\n",
        "checkpoint_callback = pl.callbacks.ModelCheckpoint(dirpath=\"/content/checkpoints\",\n",
        "                                      save_last=True,\n",
        "                                      save_top_k=1,\n",
        "                                      monitor=\"val_loss\",\n",
        "                                      mode=\"min\",\n",
        "                                      filename=model_name+\"-{epoch:02d}-{val_loss:.3f}\"\n",
        "                                      )\n",
        "\n",
        "stagnate_callback = pl.callbacks.EarlyStopping(monitor=\"val_loss\",\n",
        "                                               mode=\"min\",\n",
        "                                               check_finite=True,\n",
        "                                               patience=np.ceil(num_epochs/val_check_interval)\n",
        "                                               )\n",
        "swa_callback = pl.callbacks.StochasticWeightAveraging(swa_lrs=1e-2)\n",
        "\n",
        "# Defining trainer\n",
        "trainer = pl.Trainer(accelerator=\"gpu\",             # CPU, GPU or TPU\n",
        "                     val_check_interval=val_check_interval,\n",
        "                     auto_lr_find=False,            # True or False   \n",
        "                     auto_scale_batch_size=None,    # None or \"binsearch\"\n",
        "                     deterministic=False,           # True or False\n",
        "                     fast_dev_run=False,            # True or False or Epoch count\n",
        "                     logger=logger,                 # logger or False\n",
        "                     max_epochs=1000,               # -1 for Infinite\n",
        "                     precision=32,                  # Default 32\n",
        "                     profiler=None,                 # None, \"simple\" or \"advanced\"\n",
        "                     enable_checkpointing=True,     # True or False\n",
        "                     callbacks=[checkpoint_callback, stagnate_callback, swa_callback]\n",
        "                     #, overfit_batches=1, detect_anomaly=True\n",
        "                     )                  \n",
        "\n",
        "# Autotune hyperparameters\n",
        "trainer.tune(model=model)\n",
        "\n",
        "# Training\n",
        "trainer.fit(model=model)"
      ],
      "metadata": {
        "id": "a2eqAEcNKafw"
      },
      "execution_count": null,
      "outputs": []
    },
    {
      "cell_type": "code",
      "source": [
        "# Loading best checkpoint\n",
        "t_loss = trainer.test()[0].get('test_loss')\n",
        "print(t_loss)\n",
        "\n",
        "# save for inference\n",
        "filename = f'/content/{model_name}_{t_loss:.3f}_inf.onnx'\n",
        "\n",
        "# Input to the model\n",
        "x = torch.randn(1, 3, SIZE, SIZE, requires_grad=True)\n",
        "\n",
        "# Export the model\n",
        "model.to_onnx(filename, x, export_params=True)\n"
      ],
      "metadata": {
        "id": "v45W0Eh1nvRp"
      },
      "execution_count": null,
      "outputs": []
    }
  ]
}